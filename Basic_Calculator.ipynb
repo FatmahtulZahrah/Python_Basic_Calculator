{
 "cells": [
  {
   "cell_type": "code",
   "execution_count": null,
   "metadata": {},
   "outputs": [
    {
     "name": "stdout",
     "output_type": "stream",
     "text": [
      "Simple Calculator\n",
      "Choose an operation: +, -, *, **, %, /, // \n",
      "\n",
      "First number: 3.0\n",
      "Second number: 4.0\n",
      "Operator: //\n",
      "Result of Floor Division: 1.0\n"
     ]
    }
   ],
   "source": [
    "# Welcome message\n",
    "print(\"Simple Calculator\")\n",
    "print(\"Choose an operation: +, -, *, **, %, /, // \\n\")\n",
    "\n",
    "# user input\n",
    "num1 = float(input(\"Enter the first number: \"))\n",
    "print(f'First number: {num1}')\n",
    "num2 = float(input(\"Enter the second number: \"))\n",
    "print(f'Second number: {num2}')\n",
    "operation = input(\"Enter the operation ( +, -, *, **, %, /, //): \")\n",
    "print(f'Operator: {operation}')\n",
    "\n",
    "# Perform the operation\n",
    "        # Addition\n",
    "if operation == '+':\n",
    "    result = num1 + num2\n",
    "    print(\"Result of Addition:\", result)\n",
    "        # Subtraction\n",
    "elif operation == '-':\n",
    "    result = num1 - num2\n",
    "    print(\"Result of Subtraction:\", result)\n",
    "        # Multiplication\n",
    "elif operation == '*':\n",
    "    result = num1 * num2\n",
    "    print(\"Result of Multiplication:\", result)\n",
    "        # Exponent\n",
    "elif operation == '**':\n",
    "    result = num1 ** num2\n",
    "    print(\"Result of Exponent:\", result)\n",
    "        # Modulus\n",
    "elif operation == '%':\n",
    "    if num2 == 0:\n",
    "        print(\"Error: Cannot divide by zero!\")\n",
    "    else:\n",
    "        result = num2 % num1\n",
    "        print(\"Result of Modulus:\", result)\n",
    "        # Division\n",
    "elif operation == '/':\n",
    "    if num2 == 0:\n",
    "        print(\"Error: Cannot divide by zero!\")\n",
    "    else:\n",
    "        result = num2 / num1\n",
    "        print(\"Result of Division:\", result)\n",
    "        # Floor Division\n",
    "elif operation == '//':\n",
    "    if num2 == 0:\n",
    "        print(\"Error: Cannot divide by zero!\")\n",
    "    else:\n",
    "        result = num2 // num1\n",
    "        print(\"Result of Floor Division:\", result)\n",
    "else:\n",
    "    print(\"Invalid operation! Please choose  +, -, *, **, %, /, //.\")"
   ]
  }
 ],
 "metadata": {
  "kernelspec": {
   "display_name": "Python 3",
   "language": "python",
   "name": "python3"
  },
  "language_info": {
   "codemirror_mode": {
    "name": "ipython",
    "version": 3
   },
   "file_extension": ".py",
   "mimetype": "text/x-python",
   "name": "python",
   "nbconvert_exporter": "python",
   "pygments_lexer": "ipython3",
   "version": "3.12.4"
  }
 },
 "nbformat": 4,
 "nbformat_minor": 2
}
